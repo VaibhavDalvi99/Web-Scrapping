{
 "cells": [
  {
   "cell_type": "code",
   "execution_count": 13,
   "id": "a5792be3-36b3-4d87-a58d-583758f0cdc2",
   "metadata": {},
   "outputs": [],
   "source": [
    "import requests\n",
    "# Since we have request to this library we can send requests to grab this web page."
   ]
  },
  {
   "cell_type": "code",
   "execution_count": 14,
   "id": "83acc3d9-cebb-4524-bbe7-e7c4102426f6",
   "metadata": {},
   "outputs": [],
   "source": [
    "import pandas as pd\n",
    "from bs4 import BeautifulSoup"
   ]
  },
  {
   "cell_type": "code",
   "execution_count": 15,
   "id": "577e8aaf-6e23-4ee0-adb6-4b1468ba9e19",
   "metadata": {},
   "outputs": [],
   "source": [
    "url = f\"https://books.toscrape.com/catalogue/page-1.html\"\n",
    "\n",
    "# We are sending requests to grab some response from this url.\n",
    "response = requests.get(url)\n",
    "\n",
    "# Below code is used to see the content of the response but it's a huge binary code and not html. So,this is where beautiful soup comes in. \n",
    "response = response.content\n",
    "\n",
    "# It will basically converts the response into HTML code.\n",
    "soup = BeautifulSoup(response,'html.parser')\n",
    "\n",
    "# It will find the first occurence of ol(order list) in soup.\n",
    "ol = soup.find('ol')\n",
    "\n",
    "# Find_all will find all occurences if html article tag and if there are other articles tags as well and we want to be more specific we can use article\n",
    "# tag along with its class as mentioned below.\n",
    "articles = ol.find_all('article',class_='product_pod')\n",
    "\n",
    "# Now we have list of all the articles from which we can loop through all the articles and grab all what we need\n",
    "# articles"
   ]
  },
  {
   "cell_type": "code",
   "execution_count": null,
   "id": "35b63d50-e7ec-4746-bbc9-dc17e7f6a054",
   "metadata": {},
   "outputs": [],
   "source": [
    "# Parsing all the data needed and putting them inside a list.\n",
    "books=[]\n",
    "\n",
    "for article in articles:\n",
    "        image = article.find('img')\n",
    "        title = image.attrs['alt']\n",
    "        star = article.find('p')\n",
    "        star = star['class'][1]\n",
    "        price = article.find('p',class_=\"price_color\").text\n",
    "        price = float(price[1:])\n",
    "        books.append([title, price, star])\n",
    "print(books) #List of lits"
   ]
  },
  {
   "cell_type": "code",
   "execution_count": 19,
   "id": "58622327-2a59-485b-b2aa-4ad4259001d2",
   "metadata": {},
   "outputs": [],
   "source": [
    "# Above code need to be put inside the loop since we had to get the information from all the 50 pages.\n",
    "for i in range(1,4):\n",
    "    url = f\"https://books.toscrape.com/catalogue/page-{i}.html\"\n",
    "    \n",
    "    response = requests.get(url)\n",
    "    \n",
    "    response = response.content\n",
    "    \n",
    "    soup = BeautifulSoup(response,'html.parser')\n",
    "    \n",
    "    ol = soup.find('ol')\n",
    "    \n",
    "    articles = ol.find_all('article',class_='product_pod')\n",
    "\n",
    "    \n",
    "    for article in articles:\n",
    "        image = article.find('img')\n",
    "        title = image.attrs['alt']\n",
    "        star = article.find('p')\n",
    "        star = star['class'][1]\n",
    "        price = article.find('p',class_=\"price_color\").text\n",
    "        price = float(price[1:])\n",
    "        books.append([title, price, star])"
   ]
  },
  {
   "cell_type": "code",
   "execution_count": null,
   "id": "fbbeee28-b12d-40bf-a047-0f2e02f30916",
   "metadata": {},
   "outputs": [],
   "source": [
    "# Using pandas we are converting list of books into pandas dataframe and specifying column names to it. \n",
    "df = pd.DataFrame(books, columns = [\"Title\",\"Price\",\"Rating\"])\n",
    "df"
   ]
  },
  {
   "cell_type": "code",
   "execution_count": 24,
   "id": "c4b4eda3-bc4a-4be3-9837-84f65dbf5a87",
   "metadata": {},
   "outputs": [],
   "source": [
    "# Exporting dataframe into csv file (mentioning the path where we want the file to export)\n",
    "df.to_csv(r'C:\\Users\\sneha\\Desktop\\V.D\\Anaconda Python\\Web Scarpping\\books.csv',index=False)"
   ]
  },
  {
   "cell_type": "code",
   "execution_count": null,
   "id": "7596c057-edd5-446e-832f-51b53317597a",
   "metadata": {},
   "outputs": [],
   "source": []
  },
  {
   "cell_type": "code",
   "execution_count": null,
   "id": "d20d9e8b-f8ac-4902-92f4-424182b05c6f",
   "metadata": {},
   "outputs": [],
   "source": []
  },
  {
   "cell_type": "code",
   "execution_count": null,
   "id": "ff26dbe5-9604-4925-879e-a736874f7d50",
   "metadata": {},
   "outputs": [],
   "source": []
  },
  {
   "cell_type": "code",
   "execution_count": null,
   "id": "2ab3ab0e-0cd9-4104-b05f-3d6c7929ceef",
   "metadata": {},
   "outputs": [],
   "source": []
  },
  {
   "cell_type": "code",
   "execution_count": null,
   "id": "22bc32eb-c922-40c7-8415-0dda1a8fec91",
   "metadata": {},
   "outputs": [],
   "source": []
  },
  {
   "cell_type": "code",
   "execution_count": null,
   "id": "d2f80652-231e-4d34-a2f6-4f65bcd5d65e",
   "metadata": {},
   "outputs": [],
   "source": []
  },
  {
   "cell_type": "code",
   "execution_count": null,
   "id": "22ad6f16-1a13-48f2-82ba-1731de875d01",
   "metadata": {},
   "outputs": [],
   "source": []
  },
  {
   "cell_type": "code",
   "execution_count": null,
   "id": "e9b99ffd-f3a9-4bbd-92b0-1215241cebbb",
   "metadata": {},
   "outputs": [],
   "source": []
  },
  {
   "cell_type": "code",
   "execution_count": null,
   "id": "d8a3d0e4-4958-45c7-bad3-e6f5a9c511d3",
   "metadata": {},
   "outputs": [],
   "source": []
  },
  {
   "cell_type": "code",
   "execution_count": null,
   "id": "766dd3ad-b335-4581-b2c5-6afdd9593490",
   "metadata": {},
   "outputs": [],
   "source": []
  },
  {
   "cell_type": "code",
   "execution_count": null,
   "id": "acd5db17-66fb-483c-86c8-4ae50d9e958b",
   "metadata": {},
   "outputs": [],
   "source": []
  }
 ],
 "metadata": {
  "kernelspec": {
   "display_name": "Python 3 (ipykernel)",
   "language": "python",
   "name": "python3"
  },
  "language_info": {
   "codemirror_mode": {
    "name": "ipython",
    "version": 3
   },
   "file_extension": ".py",
   "mimetype": "text/x-python",
   "name": "python",
   "nbconvert_exporter": "python",
   "pygments_lexer": "ipython3",
   "version": "3.11.7"
  }
 },
 "nbformat": 4,
 "nbformat_minor": 5
}
